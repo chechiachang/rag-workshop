{
 "cells": [
  {
   "cell_type": "code",
   "execution_count": 4,
   "id": "6314a1d7-46f1-483e-869b-28ee29ddd331",
   "metadata": {},
   "outputs": [
    {
     "name": "stdout",
     "output_type": "stream",
     "text": [
      "Collecting openai\n",
      "  Downloading openai-1.82.0-py3-none-any.whl.metadata (25 kB)\n",
      "Requirement already satisfied: anyio<5,>=3.5.0 in /opt/conda/lib/python3.12/site-packages (from openai) (4.9.0)\n",
      "Requirement already satisfied: distro<2,>=1.7.0 in /opt/conda/lib/python3.12/site-packages (from openai) (1.9.0)\n",
      "Requirement already satisfied: httpx<1,>=0.23.0 in /opt/conda/lib/python3.12/site-packages (from openai) (0.28.1)\n",
      "Collecting jiter<1,>=0.4.0 (from openai)\n",
      "  Downloading jiter-0.10.0-cp312-cp312-manylinux_2_17_aarch64.manylinux2014_aarch64.whl.metadata (5.2 kB)\n",
      "Requirement already satisfied: pydantic<3,>=1.9.0 in /opt/conda/lib/python3.12/site-packages (from openai) (2.11.4)\n",
      "Requirement already satisfied: sniffio in /opt/conda/lib/python3.12/site-packages (from openai) (1.3.1)\n",
      "Requirement already satisfied: tqdm>4 in /opt/conda/lib/python3.12/site-packages (from openai) (4.67.1)\n",
      "Requirement already satisfied: typing-extensions<5,>=4.11 in /opt/conda/lib/python3.12/site-packages (from openai) (4.13.2)\n",
      "Requirement already satisfied: idna>=2.8 in /opt/conda/lib/python3.12/site-packages (from anyio<5,>=3.5.0->openai) (3.10)\n",
      "Requirement already satisfied: certifi in /opt/conda/lib/python3.12/site-packages (from httpx<1,>=0.23.0->openai) (2025.4.26)\n",
      "Requirement already satisfied: httpcore==1.* in /opt/conda/lib/python3.12/site-packages (from httpx<1,>=0.23.0->openai) (1.0.9)\n",
      "Requirement already satisfied: h11>=0.16 in /opt/conda/lib/python3.12/site-packages (from httpcore==1.*->httpx<1,>=0.23.0->openai) (0.16.0)\n",
      "Requirement already satisfied: annotated-types>=0.6.0 in /opt/conda/lib/python3.12/site-packages (from pydantic<3,>=1.9.0->openai) (0.7.0)\n",
      "Requirement already satisfied: pydantic-core==2.33.2 in /opt/conda/lib/python3.12/site-packages (from pydantic<3,>=1.9.0->openai) (2.33.2)\n",
      "Requirement already satisfied: typing-inspection>=0.4.0 in /opt/conda/lib/python3.12/site-packages (from pydantic<3,>=1.9.0->openai) (0.4.0)\n",
      "Downloading openai-1.82.0-py3-none-any.whl (720 kB)\n",
      "\u001b[2K   \u001b[90m━━━━━━━━━━━━━━━━━━━━━━━━━━━━━━━━━━━━━━━━\u001b[0m \u001b[32m720.4/720.4 kB\u001b[0m \u001b[31m7.6 MB/s\u001b[0m eta \u001b[36m0:00:00\u001b[0m\n",
      "\u001b[?25hDownloading jiter-0.10.0-cp312-cp312-manylinux_2_17_aarch64.manylinux2014_aarch64.whl (345 kB)\n",
      "Installing collected packages: jiter, openai\n",
      "\u001b[2K   \u001b[90m━━━━━━━━━━━━━━━━━━━━━━━━━━━━━━━━━━━━━━━━\u001b[0m \u001b[32m2/2\u001b[0m [openai]2m1/2\u001b[0m [openai]\n",
      "\u001b[1A\u001b[2KSuccessfully installed jiter-0.10.0 openai-1.82.0\n"
     ]
    }
   ],
   "source": [
    "import os\n",
    "\n",
    "!pip install openai\n",
    "\n",
    "import openai\n",
    "\n",
    "os.environ[\"OPENAI_API_KEY\"] = \"\"\n",
    "\n",
    "# Set your Azure OpenAI endpoint and key\n",
    "openai.api_type = \"azure\"\n",
    "openai.api_base = \"https://<your-resource-name>.openai.azure.com/\"\n",
    "openai.api_version = \"2023-12-01-preview\"  # or your provisioned API version\n",
    "openai.api_key = \"<your-azure-openai-key>\"\n",
    "\n",
    "# Call the model (example: chat completion)\n",
    "response = openai.ChatCompletion.create(\n",
    "    engine=\"gpt-4\",  # or your Azure deployment name (not \"gpt-4\")\n",
    "    messages=[\n",
    "        {\"role\": \"system\", \"content\": \"You are a helpful Kubernetes assistant.\"},\n",
    "        {\"role\": \"user\", \"content\": \"What is a Pod in Kubernetes?\"}\n",
    "    ]\n",
    ")\n",
    "\n",
    "print(response[\"choices\"][0][\"message\"][\"content\"])"
   ]
  },
  {
   "cell_type": "code",
   "execution_count": null,
   "id": "ab02eb31-cecc-47bf-8dc8-4163132ca9cc",
   "metadata": {},
   "outputs": [],
   "source": [
    "import OpenAI from \"openai\";\n",
    "const openai = new OpenAI(\n",
    "    \n",
    ");\n",
    "\n",
    "const embedding = await openai.embeddings.create({\n",
    "  model: \"text-embedding-3-small\",\n",
    "  input: \"Your text string goes here\",\n",
    "  encoding_format: \"float\",\n",
    "});\n",
    "\n",
    "console.log(embedding);"
   ]
  },
  {
   "cell_type": "code",
   "execution_count": 2,
   "id": "031fbf80-a04d-47c3-8659-470761c4da9e",
   "metadata": {},
   "outputs": [],
   "source": [
    "uw_info = \"\"\"\n",
    "The University of Washington, founded in 1861 in Seattle, is a public research university\n",
    "with over 45,000 students across three campuses in Seattle, Tacoma, and Bothell.\n",
    "As the flagship institution of the six public universities in Washington state,\n",
    "UW encompasses over 500 buildings and 20 million square feet of space,\n",
    "including one of the largest library systems in the world.\n",
    "\"\"\"\n",
    "\n",
    "wsu_info = \"\"\"\n",
    "Washington State University, commonly known as WSU, founded in 1890, is a public research university in Pullman, Washington.\n",
    "With multiple campuses across the state, it is the state's second largest institution of higher education.\n",
    "WSU is known for its programs in veterinary medicine, agriculture, engineering, architecture, and pharmacy.\n",
    "\"\"\"\n",
    "\n",
    "seattle_info = \"\"\"\n",
    "Seattle, a city on Puget Sound in the Pacific Northwest, is surrounded by water, mountains and evergreen forests, and contains thousands of acres of parkland.\n",
    "It's home to a large tech industry, with Microsoft and Amazon headquartered in its metropolitan area.\n",
    "The futuristic Space Needle, a legacy of the 1962 World's Fair, is its most iconic landmark.\n",
    "\"\"\"\n",
    "\n",
    "starbucks_info = \"\"\"\n",
    "Starbucks Corporation is an American multinational chain of coffeehouses and roastery reserves headquartered in Seattle, Washington.\n",
    "As the world's largest coffeehouse chain, Starbucks is seen to be the main representation of the United States' second wave of coffee culture.\n",
    "\"\"\"\n",
    "\n",
    "newzealand_info = \"\"\"\n",
    "New Zealand is an island country located in the southwestern Pacific Ocean. It comprises two main landmasses—the North Island and the South Island—and over 700 smaller islands.\n",
    "The country is known for its stunning landscapes, ranging from lush forests and mountains to beaches and lakes. New Zealand has a rich cultural heritage, with influences from \n",
    "both the indigenous Māori people and European settlers. The capital city is Wellington, while the largest city is Auckland. New Zealand is also famous for its adventure tourism,\n",
    "including activities like bungee jumping, skiing, and hiking.\n",
    "\"\"\""
   ]
  },
  {
   "cell_type": "code",
   "execution_count": null,
   "id": "28952283-6913-429b-9187-ee8f2994c79b",
   "metadata": {},
   "outputs": [],
   "source": []
  }
 ],
 "metadata": {
  "kernelspec": {
   "display_name": "Python 3 (ipykernel)",
   "language": "python",
   "name": "python3"
  },
  "language_info": {
   "codemirror_mode": {
    "name": "ipython",
    "version": 3
   },
   "file_extension": ".py",
   "mimetype": "text/x-python",
   "name": "python",
   "nbconvert_exporter": "python",
   "pygments_lexer": "ipython3",
   "version": "3.12.10"
  }
 },
 "nbformat": 4,
 "nbformat_minor": 5
}
