{
 "cells": [
  {
   "cell_type": "code",
   "execution_count": 2,
   "id": "1ddd9586-b155-4191-8c0b-bf02ab738225",
   "metadata": {},
   "outputs": [
    {
     "name": "stdout",
     "output_type": "stream",
     "text": [
      "Requirement already satisfied: langchain_qdrant in /opt/conda/lib/python3.12/site-packages (0.2.0)\n",
      "Requirement already satisfied: qdrant_client in /opt/conda/lib/python3.12/site-packages (1.14.2)\n",
      "Requirement already satisfied: langchain-openai in /opt/conda/lib/python3.12/site-packages (0.3.18)\n",
      "Requirement already satisfied: langchain_community in /opt/conda/lib/python3.12/site-packages (0.3.24)\n",
      "Requirement already satisfied: unstructured in /opt/conda/lib/python3.12/site-packages (0.17.2)\n",
      "Requirement already satisfied: markdown in /opt/conda/lib/python3.12/site-packages (3.8)\n",
      "Requirement already satisfied: langchain-core!=0.3.0,!=0.3.1,!=0.3.10,!=0.3.11,!=0.3.12,!=0.3.13,!=0.3.14,!=0.3.2,!=0.3.3,!=0.3.4,!=0.3.5,!=0.3.6,!=0.3.7,!=0.3.8,!=0.3.9,<0.4.0,>=0.2.43 in /opt/conda/lib/python3.12/site-packages (from langchain_qdrant) (0.3.63)\n",
      "Requirement already satisfied: pydantic<3.0.0,>=2.7.4 in /opt/conda/lib/python3.12/site-packages (from langchain_qdrant) (2.11.4)\n",
      "Requirement already satisfied: grpcio>=1.41.0 in /opt/conda/lib/python3.12/site-packages (from qdrant_client) (1.71.0)\n",
      "Requirement already satisfied: httpx>=0.20.0 in /opt/conda/lib/python3.12/site-packages (from httpx[http2]>=0.20.0->qdrant_client) (0.28.1)\n",
      "Requirement already satisfied: numpy>=1.26 in /opt/conda/lib/python3.12/site-packages (from qdrant_client) (2.2.6)\n",
      "Requirement already satisfied: portalocker<3.0.0,>=2.7.0 in /opt/conda/lib/python3.12/site-packages (from qdrant_client) (2.10.1)\n",
      "Requirement already satisfied: protobuf>=3.20.0 in /opt/conda/lib/python3.12/site-packages (from qdrant_client) (6.31.1)\n",
      "Requirement already satisfied: urllib3<3,>=1.26.14 in /opt/conda/lib/python3.12/site-packages (from qdrant_client) (2.4.0)\n",
      "Requirement already satisfied: langsmith<0.4,>=0.1.126 in /opt/conda/lib/python3.12/site-packages (from langchain-core!=0.3.0,!=0.3.1,!=0.3.10,!=0.3.11,!=0.3.12,!=0.3.13,!=0.3.14,!=0.3.2,!=0.3.3,!=0.3.4,!=0.3.5,!=0.3.6,!=0.3.7,!=0.3.8,!=0.3.9,<0.4.0,>=0.2.43->langchain_qdrant) (0.3.43)\n",
      "Requirement already satisfied: tenacity!=8.4.0,<10.0.0,>=8.1.0 in /opt/conda/lib/python3.12/site-packages (from langchain-core!=0.3.0,!=0.3.1,!=0.3.10,!=0.3.11,!=0.3.12,!=0.3.13,!=0.3.14,!=0.3.2,!=0.3.3,!=0.3.4,!=0.3.5,!=0.3.6,!=0.3.7,!=0.3.8,!=0.3.9,<0.4.0,>=0.2.43->langchain_qdrant) (9.1.2)\n",
      "Requirement already satisfied: jsonpatch<2.0,>=1.33 in /opt/conda/lib/python3.12/site-packages (from langchain-core!=0.3.0,!=0.3.1,!=0.3.10,!=0.3.11,!=0.3.12,!=0.3.13,!=0.3.14,!=0.3.2,!=0.3.3,!=0.3.4,!=0.3.5,!=0.3.6,!=0.3.7,!=0.3.8,!=0.3.9,<0.4.0,>=0.2.43->langchain_qdrant) (1.33)\n",
      "Requirement already satisfied: PyYAML>=5.3 in /opt/conda/lib/python3.12/site-packages (from langchain-core!=0.3.0,!=0.3.1,!=0.3.10,!=0.3.11,!=0.3.12,!=0.3.13,!=0.3.14,!=0.3.2,!=0.3.3,!=0.3.4,!=0.3.5,!=0.3.6,!=0.3.7,!=0.3.8,!=0.3.9,<0.4.0,>=0.2.43->langchain_qdrant) (6.0.2)\n",
      "Requirement already satisfied: packaging<25,>=23.2 in /opt/conda/lib/python3.12/site-packages (from langchain-core!=0.3.0,!=0.3.1,!=0.3.10,!=0.3.11,!=0.3.12,!=0.3.13,!=0.3.14,!=0.3.2,!=0.3.3,!=0.3.4,!=0.3.5,!=0.3.6,!=0.3.7,!=0.3.8,!=0.3.9,<0.4.0,>=0.2.43->langchain_qdrant) (24.2)\n",
      "Requirement already satisfied: typing-extensions>=4.7 in /opt/conda/lib/python3.12/site-packages (from langchain-core!=0.3.0,!=0.3.1,!=0.3.10,!=0.3.11,!=0.3.12,!=0.3.13,!=0.3.14,!=0.3.2,!=0.3.3,!=0.3.4,!=0.3.5,!=0.3.6,!=0.3.7,!=0.3.8,!=0.3.9,<0.4.0,>=0.2.43->langchain_qdrant) (4.13.2)\n",
      "Requirement already satisfied: jsonpointer>=1.9 in /opt/conda/lib/python3.12/site-packages (from jsonpatch<2.0,>=1.33->langchain-core!=0.3.0,!=0.3.1,!=0.3.10,!=0.3.11,!=0.3.12,!=0.3.13,!=0.3.14,!=0.3.2,!=0.3.3,!=0.3.4,!=0.3.5,!=0.3.6,!=0.3.7,!=0.3.8,!=0.3.9,<0.4.0,>=0.2.43->langchain_qdrant) (3.0.0)\n",
      "Requirement already satisfied: orjson<4.0.0,>=3.9.14 in /opt/conda/lib/python3.12/site-packages (from langsmith<0.4,>=0.1.126->langchain-core!=0.3.0,!=0.3.1,!=0.3.10,!=0.3.11,!=0.3.12,!=0.3.13,!=0.3.14,!=0.3.2,!=0.3.3,!=0.3.4,!=0.3.5,!=0.3.6,!=0.3.7,!=0.3.8,!=0.3.9,<0.4.0,>=0.2.43->langchain_qdrant) (3.10.18)\n",
      "Requirement already satisfied: requests<3,>=2 in /opt/conda/lib/python3.12/site-packages (from langsmith<0.4,>=0.1.126->langchain-core!=0.3.0,!=0.3.1,!=0.3.10,!=0.3.11,!=0.3.12,!=0.3.13,!=0.3.14,!=0.3.2,!=0.3.3,!=0.3.4,!=0.3.5,!=0.3.6,!=0.3.7,!=0.3.8,!=0.3.9,<0.4.0,>=0.2.43->langchain_qdrant) (2.32.3)\n",
      "Requirement already satisfied: requests-toolbelt<2.0.0,>=1.0.0 in /opt/conda/lib/python3.12/site-packages (from langsmith<0.4,>=0.1.126->langchain-core!=0.3.0,!=0.3.1,!=0.3.10,!=0.3.11,!=0.3.12,!=0.3.13,!=0.3.14,!=0.3.2,!=0.3.3,!=0.3.4,!=0.3.5,!=0.3.6,!=0.3.7,!=0.3.8,!=0.3.9,<0.4.0,>=0.2.43->langchain_qdrant) (1.0.0)\n",
      "Requirement already satisfied: zstandard<0.24.0,>=0.23.0 in /opt/conda/lib/python3.12/site-packages (from langsmith<0.4,>=0.1.126->langchain-core!=0.3.0,!=0.3.1,!=0.3.10,!=0.3.11,!=0.3.12,!=0.3.13,!=0.3.14,!=0.3.2,!=0.3.3,!=0.3.4,!=0.3.5,!=0.3.6,!=0.3.7,!=0.3.8,!=0.3.9,<0.4.0,>=0.2.43->langchain_qdrant) (0.23.0)\n",
      "Requirement already satisfied: anyio in /opt/conda/lib/python3.12/site-packages (from httpx>=0.20.0->httpx[http2]>=0.20.0->qdrant_client) (4.9.0)\n",
      "Requirement already satisfied: certifi in /opt/conda/lib/python3.12/site-packages (from httpx>=0.20.0->httpx[http2]>=0.20.0->qdrant_client) (2025.4.26)\n",
      "Requirement already satisfied: httpcore==1.* in /opt/conda/lib/python3.12/site-packages (from httpx>=0.20.0->httpx[http2]>=0.20.0->qdrant_client) (1.0.9)\n",
      "Requirement already satisfied: idna in /opt/conda/lib/python3.12/site-packages (from httpx>=0.20.0->httpx[http2]>=0.20.0->qdrant_client) (3.10)\n",
      "Requirement already satisfied: h11>=0.16 in /opt/conda/lib/python3.12/site-packages (from httpcore==1.*->httpx>=0.20.0->httpx[http2]>=0.20.0->qdrant_client) (0.16.0)\n",
      "Requirement already satisfied: annotated-types>=0.6.0 in /opt/conda/lib/python3.12/site-packages (from pydantic<3.0.0,>=2.7.4->langchain_qdrant) (0.7.0)\n",
      "Requirement already satisfied: pydantic-core==2.33.2 in /opt/conda/lib/python3.12/site-packages (from pydantic<3.0.0,>=2.7.4->langchain_qdrant) (2.33.2)\n",
      "Requirement already satisfied: typing-inspection>=0.4.0 in /opt/conda/lib/python3.12/site-packages (from pydantic<3.0.0,>=2.7.4->langchain_qdrant) (0.4.1)\n",
      "Requirement already satisfied: charset_normalizer<4,>=2 in /opt/conda/lib/python3.12/site-packages (from requests<3,>=2->langsmith<0.4,>=0.1.126->langchain-core!=0.3.0,!=0.3.1,!=0.3.10,!=0.3.11,!=0.3.12,!=0.3.13,!=0.3.14,!=0.3.2,!=0.3.3,!=0.3.4,!=0.3.5,!=0.3.6,!=0.3.7,!=0.3.8,!=0.3.9,<0.4.0,>=0.2.43->langchain_qdrant) (3.4.2)\n",
      "Requirement already satisfied: openai<2.0.0,>=1.68.2 in /opt/conda/lib/python3.12/site-packages (from langchain-openai) (1.82.1)\n",
      "Requirement already satisfied: tiktoken<1,>=0.7 in /opt/conda/lib/python3.12/site-packages (from langchain-openai) (0.9.0)\n",
      "Requirement already satisfied: distro<2,>=1.7.0 in /opt/conda/lib/python3.12/site-packages (from openai<2.0.0,>=1.68.2->langchain-openai) (1.9.0)\n",
      "Requirement already satisfied: jiter<1,>=0.4.0 in /opt/conda/lib/python3.12/site-packages (from openai<2.0.0,>=1.68.2->langchain-openai) (0.10.0)\n",
      "Requirement already satisfied: sniffio in /opt/conda/lib/python3.12/site-packages (from openai<2.0.0,>=1.68.2->langchain-openai) (1.3.1)\n",
      "Requirement already satisfied: tqdm>4 in /opt/conda/lib/python3.12/site-packages (from openai<2.0.0,>=1.68.2->langchain-openai) (4.67.1)\n",
      "Requirement already satisfied: regex>=2022.1.18 in /opt/conda/lib/python3.12/site-packages (from tiktoken<1,>=0.7->langchain-openai) (2024.11.6)\n",
      "Requirement already satisfied: langchain<1.0.0,>=0.3.25 in /opt/conda/lib/python3.12/site-packages (from langchain_community) (0.3.25)\n",
      "Requirement already satisfied: SQLAlchemy<3,>=1.4 in /opt/conda/lib/python3.12/site-packages (from langchain_community) (2.0.41)\n",
      "Requirement already satisfied: aiohttp<4.0.0,>=3.8.3 in /opt/conda/lib/python3.12/site-packages (from langchain_community) (3.12.4)\n",
      "Requirement already satisfied: dataclasses-json<0.7,>=0.5.7 in /opt/conda/lib/python3.12/site-packages (from langchain_community) (0.6.7)\n",
      "Requirement already satisfied: pydantic-settings<3.0.0,>=2.4.0 in /opt/conda/lib/python3.12/site-packages (from langchain_community) (2.9.1)\n",
      "Requirement already satisfied: httpx-sse<1.0.0,>=0.4.0 in /opt/conda/lib/python3.12/site-packages (from langchain_community) (0.4.0)\n",
      "Requirement already satisfied: aiohappyeyeballs>=2.5.0 in /opt/conda/lib/python3.12/site-packages (from aiohttp<4.0.0,>=3.8.3->langchain_community) (2.6.1)\n",
      "Requirement already satisfied: aiosignal>=1.1.2 in /opt/conda/lib/python3.12/site-packages (from aiohttp<4.0.0,>=3.8.3->langchain_community) (1.3.2)\n",
      "Requirement already satisfied: attrs>=17.3.0 in /opt/conda/lib/python3.12/site-packages (from aiohttp<4.0.0,>=3.8.3->langchain_community) (25.3.0)\n",
      "Requirement already satisfied: frozenlist>=1.1.1 in /opt/conda/lib/python3.12/site-packages (from aiohttp<4.0.0,>=3.8.3->langchain_community) (1.6.0)\n",
      "Requirement already satisfied: multidict<7.0,>=4.5 in /opt/conda/lib/python3.12/site-packages (from aiohttp<4.0.0,>=3.8.3->langchain_community) (6.4.4)\n",
      "Requirement already satisfied: propcache>=0.2.0 in /opt/conda/lib/python3.12/site-packages (from aiohttp<4.0.0,>=3.8.3->langchain_community) (0.3.1)\n",
      "Requirement already satisfied: yarl<2.0,>=1.17.0 in /opt/conda/lib/python3.12/site-packages (from aiohttp<4.0.0,>=3.8.3->langchain_community) (1.20.0)\n",
      "Requirement already satisfied: marshmallow<4.0.0,>=3.18.0 in /opt/conda/lib/python3.12/site-packages (from dataclasses-json<0.7,>=0.5.7->langchain_community) (3.26.1)\n",
      "Requirement already satisfied: typing-inspect<1,>=0.4.0 in /opt/conda/lib/python3.12/site-packages (from dataclasses-json<0.7,>=0.5.7->langchain_community) (0.9.0)\n",
      "Requirement already satisfied: langchain-text-splitters<1.0.0,>=0.3.8 in /opt/conda/lib/python3.12/site-packages (from langchain<1.0.0,>=0.3.25->langchain_community) (0.3.8)\n",
      "Requirement already satisfied: python-dotenv>=0.21.0 in /opt/conda/lib/python3.12/site-packages (from pydantic-settings<3.0.0,>=2.4.0->langchain_community) (1.1.0)\n",
      "Requirement already satisfied: greenlet>=1 in /opt/conda/lib/python3.12/site-packages (from SQLAlchemy<3,>=1.4->langchain_community) (3.2.2)\n",
      "Requirement already satisfied: mypy-extensions>=0.3.0 in /opt/conda/lib/python3.12/site-packages (from typing-inspect<1,>=0.4.0->dataclasses-json<0.7,>=0.5.7->langchain_community) (1.1.0)\n",
      "Requirement already satisfied: chardet in /opt/conda/lib/python3.12/site-packages (from unstructured) (5.2.0)\n",
      "Requirement already satisfied: filetype in /opt/conda/lib/python3.12/site-packages (from unstructured) (1.2.0)\n",
      "Requirement already satisfied: python-magic in /opt/conda/lib/python3.12/site-packages (from unstructured) (0.4.27)\n",
      "Requirement already satisfied: lxml in /opt/conda/lib/python3.12/site-packages (from unstructured) (5.4.0)\n",
      "Requirement already satisfied: nltk in /opt/conda/lib/python3.12/site-packages (from unstructured) (3.9.1)\n",
      "Requirement already satisfied: beautifulsoup4 in /opt/conda/lib/python3.12/site-packages (from unstructured) (4.13.4)\n",
      "Requirement already satisfied: emoji in /opt/conda/lib/python3.12/site-packages (from unstructured) (2.14.1)\n",
      "Requirement already satisfied: python-iso639 in /opt/conda/lib/python3.12/site-packages (from unstructured) (2025.2.18)\n",
      "Requirement already satisfied: langdetect in /opt/conda/lib/python3.12/site-packages (from unstructured) (1.0.9)\n",
      "Requirement already satisfied: rapidfuzz in /opt/conda/lib/python3.12/site-packages (from unstructured) (3.13.0)\n",
      "Requirement already satisfied: backoff in /opt/conda/lib/python3.12/site-packages (from unstructured) (2.2.1)\n",
      "Requirement already satisfied: unstructured-client in /opt/conda/lib/python3.12/site-packages (from unstructured) (0.36.0)\n",
      "Requirement already satisfied: wrapt in /opt/conda/lib/python3.12/site-packages (from unstructured) (1.17.2)\n",
      "Requirement already satisfied: psutil in /opt/conda/lib/python3.12/site-packages (from unstructured) (7.0.0)\n",
      "Requirement already satisfied: python-oxmsg in /opt/conda/lib/python3.12/site-packages (from unstructured) (0.0.2)\n",
      "Requirement already satisfied: html5lib in /opt/conda/lib/python3.12/site-packages (from unstructured) (1.1)\n",
      "Requirement already satisfied: h2<5,>=3 in /opt/conda/lib/python3.12/site-packages (from httpx[http2]>=0.20.0->qdrant_client) (4.2.0)\n",
      "Requirement already satisfied: hyperframe<7,>=6.1 in /opt/conda/lib/python3.12/site-packages (from h2<5,>=3->httpx[http2]>=0.20.0->qdrant_client) (6.1.0)\n",
      "Requirement already satisfied: hpack<5,>=4.1 in /opt/conda/lib/python3.12/site-packages (from h2<5,>=3->httpx[http2]>=0.20.0->qdrant_client) (4.1.0)\n",
      "Requirement already satisfied: soupsieve>1.2 in /opt/conda/lib/python3.12/site-packages (from beautifulsoup4->unstructured) (2.7)\n",
      "Requirement already satisfied: six>=1.9 in /opt/conda/lib/python3.12/site-packages (from html5lib->unstructured) (1.17.0)\n",
      "Requirement already satisfied: webencodings in /opt/conda/lib/python3.12/site-packages (from html5lib->unstructured) (0.5.1)\n",
      "Requirement already satisfied: click in /opt/conda/lib/python3.12/site-packages (from nltk->unstructured) (8.2.1)\n",
      "Requirement already satisfied: joblib in /opt/conda/lib/python3.12/site-packages (from nltk->unstructured) (1.5.1)\n",
      "Requirement already satisfied: olefile in /opt/conda/lib/python3.12/site-packages (from python-oxmsg->unstructured) (0.47)\n",
      "Requirement already satisfied: aiofiles>=24.1.0 in /opt/conda/lib/python3.12/site-packages (from unstructured-client->unstructured) (24.1.0)\n",
      "Requirement already satisfied: cryptography>=3.1 in /opt/conda/lib/python3.12/site-packages (from unstructured-client->unstructured) (45.0.3)\n",
      "Requirement already satisfied: nest-asyncio>=1.6.0 in /opt/conda/lib/python3.12/site-packages (from unstructured-client->unstructured) (1.6.0)\n",
      "Requirement already satisfied: pypdf>=4.0 in /opt/conda/lib/python3.12/site-packages (from unstructured-client->unstructured) (5.5.0)\n",
      "Requirement already satisfied: cffi>=1.14 in /opt/conda/lib/python3.12/site-packages (from cryptography>=3.1->unstructured-client->unstructured) (1.17.1)\n",
      "Requirement already satisfied: pycparser in /opt/conda/lib/python3.12/site-packages (from cffi>=1.14->cryptography>=3.1->unstructured-client->unstructured) (2.22)\n"
     ]
    }
   ],
   "source": [
    "!pip install langchain_qdrant qdrant_client langchain-openai langchain_openai langchain_community unstructured markdown"
   ]
  },
  {
   "cell_type": "code",
   "execution_count": 3,
   "id": "3dcfe4d6-50a1-490c-bea7-36905c60cc5e",
   "metadata": {},
   "outputs": [
    {
     "name": "stdout",
     "output_type": "stream",
     "text": [
      "AZURE_OPENAI_API_KEY is ready\n"
     ]
    }
   ],
   "source": [
    "# Test that your OpenAI API key is correctly set as an environment variable\n",
    "# Note. if you run this notebook locally, you will need to reload your terminal and the notebook for the env variables to be live.\n",
    "import os\n",
    "\n",
    "# Note. alternatively you can set a temporary env variable like this:\n",
    "#os.environ[\"OPENAI_API_KEY\"] = \"\"\n",
    "\n",
    "os.environ[\"AZURE_OPENAI_API_KEY\"]=\"\"\n",
    "os.environ[\"AZURE_OPENAI_ENDPOINT\"]=\"https://chechia-workshop.openai.azure.com/\"\n",
    "os.environ[\"OPENAI_API_VERSION\"]=\"2024-12-01-preview\"\n",
    "os.environ[\"OPENAI_MODEL\"]=\"gpt-4.1-mini\"\n",
    "os.environ[\"AZURE_OPENAI_DEPLOYMENT_NAME\"]=\"gpt-4.1-mini\"\n",
    "#os.environ[\"OPENAI_MODEL\"]=\"text-embedding-3-small\"\n",
    "\n",
    "if os.getenv(\"AZURE_OPENAI_API_KEY\") is not None:\n",
    "    print(\"AZURE_OPENAI_API_KEY is ready\")\n",
    "else:\n",
    "    print(\"AZURE_OPENAI_API_KEY environment variable not found\")"
   ]
  },
  {
   "cell_type": "code",
   "execution_count": 20,
   "id": "d92c77b2-4eb3-4116-bd1a-c1933e848037",
   "metadata": {},
   "outputs": [],
   "source": [
    "from langchain_openai import AzureOpenAIEmbeddings\n",
    "from langchain_openai import AzureChatOpenAI\n",
    "\n",
    "llm = AzureChatOpenAI(\n",
    "    temperature=\"0.0\",\n",
    "    azure_endpoint=os.environ[\"AZURE_OPENAI_ENDPOINT\"],\n",
    "    azure_deployment=os.environ[\"AZURE_OPENAI_DEPLOYMENT_NAME\"],\n",
    "    openai_api_version=os.environ[\"OPENAI_API_VERSION\"],\n",
    "    #rate_limiter=InMemoryRateLimiter(\n",
    "    #    requests_per_second=60,\n",
    "    #    check_every_n_seconds=1,\n",
    "    #)\n",
    ")\n",
    "\n",
    "openai_embeddings = AzureOpenAIEmbeddings(\n",
    "    model='text-embedding-3-large',\n",
    "    azure_endpoint=os.environ[\"AZURE_OPENAI_ENDPOINT\"],\n",
    "    api_key=os.environ[\"AZURE_OPENAI_API_KEY\"],\n",
    "    openai_api_version=os.environ[\"OPENAI_API_VERSION\"],\n",
    ")\n",
    "\n",
    "from langchain_qdrant import QdrantVectorStore\n",
    "from qdrant_client import QdrantClient\n",
    "from qdrant_client.models import Distance\n",
    "from qdrant_client.models import VectorParams\n",
    "\n",
    "# initialize the qdrant client\n",
    "client = QdrantClient(\n",
    "    host=\"qdrant\",\n",
    "    prefer_grpc=True,\n",
    ")\n",
    "\n",
    "collection_name = \"k8s-official-doc\"\n",
    "\n",
    "if not client.collection_exists(collection_name):\n",
    "    client.create_collection(\n",
    "       collection_name=collection_name,\n",
    "       vectors_config=VectorParams(\n",
    "           size=3072,\n",
    "           distance=Distance.COSINE\n",
    "        ),\n",
    "    )\n",
    "# create the vector store\n",
    "vectordb = QdrantVectorStore(\n",
    "    client=client,\n",
    "    collection_name=collection_name,\n",
    "    embedding=openai_embeddings,\n",
    ")"
   ]
  },
  {
   "cell_type": "code",
   "execution_count": 21,
   "id": "bfa49672-9634-4ac1-b2b2-1a6216c71cd7",
   "metadata": {},
   "outputs": [],
   "source": [
    "from langchain.chains import create_history_aware_retriever\n",
    "from langchain.chains import create_retrieval_chain\n",
    "from langchain.chains.combine_documents import create_stuff_documents_chain\n",
    "from langchain_core.prompts import ChatPromptTemplate\n",
    "\n",
    "chat_history = []\n",
    "\n",
    "condense_question_system_template = \"\"\"\n",
    "    給定一段對話歷史和最新的用戶問題，用戶問題可能參考對話歷史中的內容，\n",
    "    重新構造一個獨立的問題，該問題可以在沒有對話歷史的情況下理解。\n",
    "    不要直接回答問題，只有在需要時重新構造問題，否則原樣返回。\n",
    "\"\"\"\n",
    "\n",
    "condense_question_prompt = ChatPromptTemplate.from_messages(\n",
    "    [\n",
    "        (\"system\", condense_question_system_template),\n",
    "        (\"placeholder\", \"{chat_history}\"),\n",
    "        (\"human\", \"{input}\"),\n",
    "    ]\n",
    ")\n",
    "\n",
    "system_prompt = \"\"\"\n",
    "    你是一個問答任務的助手。根據 Context 的資料內容回答問題。\n",
    "    不要回答 Context 以外的資訊\n",
    "    如果 Context 的資料沒有相關內容，就基於 Context 的內容做解釋。\n",
    "    使用繁體中文回答。\n",
    "    回答的格式為\n",
    "        Question：問題\n",
    "        Context: Context\n",
    "        Answer: 答案\n",
    "\n",
    "    Context:\n",
    "    {context}\n",
    "\"\"\"\n",
    "\n",
    "qa_prompt = ChatPromptTemplate.from_messages(\n",
    "    [\n",
    "        (\"system\", system_prompt),\n",
    "        (\"placeholder\", \"{chat_history}\"),\n",
    "        (\"human\", \"{input}\"),\n",
    "    ]\n",
    ")\n",
    "\n",
    "vb_retriever = vectordb.as_retriever(\n",
    "    #search_type=\"similarity\",\n",
    "    search_type=\"mmr\",\n",
    "    search_kwargs={\n",
    "        \"k\": 4,\n",
    "        #\"score_threshold\": 0.5,\n",
    "    }\n",
    ")\n",
    "\n",
    "# Create a history-aware retriever from the OpenAI model and the retriever\n",
    "convo_qa_chain = create_retrieval_chain(\n",
    "    create_history_aware_retriever(\n",
    "        llm,\n",
    "        vb_retriever,\n",
    "        condense_question_prompt\n",
    "    ),\n",
    "    create_stuff_documents_chain(\n",
    "        llm,\n",
    "        qa_prompt\n",
    "    )\n",
    ")"
   ]
  },
  {
   "cell_type": "code",
   "execution_count": 22,
   "id": "10ec9a8f-f6ad-4973-9542-fe58db98e202",
   "metadata": {},
   "outputs": [],
   "source": [
    "def generate_prompt(question):\n",
    "    if not chat_history:\n",
    "        prompt = f\"\"\"\n",
    "        問題：{question}\n",
    "        \"\"\"\n",
    "    else:\n",
    "        print(\"Chat with previous history\")\n",
    "        context_entries = [f\"Question: {q}\\nAnswer: {a}\" for q, a in chat_history[-3:]]\n",
    "        context = \"\\n\\n\".join(context_entries)\n",
    "        prompt = f\"\"\"\n",
    "            使用最近對話提供的內容，以簡潔且具信息性的方式回答新問題。\n",
    "            最近對話的內容：{context}\n",
    "            新問題：{question}\n",
    "            答案：\n",
    "        \"\"\"\n",
    "\n",
    "    return prompt\n",
    "\n",
    "def ask_question(question):\n",
    "    prompt = generate_prompt(question)\n",
    "    # Invoke the chain with the question and the chat history\n",
    "    result = convo_qa_chain.invoke(\n",
    "        {\n",
    "            \"input\": prompt,\n",
    "            \"chat_history\": chat_history\n",
    "        }\n",
    "    )\n",
    "\n",
    "    # Return the bot's answer\n",
    "    return result[\"answer\"]"
   ]
  },
  {
   "cell_type": "code",
   "execution_count": 23,
   "id": "045f2d66-2049-4d7f-9eec-73510af347eb",
   "metadata": {},
   "outputs": [
    {
     "name": "stdout",
     "output_type": "stream",
     "text": [
      "Question：如何擴展 Service IP 範圍?  \n",
      "Context:   \n",
      "Answer: 根據提供的 Context，沒有相關資料說明如何擴展 Service IP 範圍，因此無法直接回答此問題。建議參考相關系統或平台的官方文件，了解如何調整或擴展 Service IP 範圍的具體步驟。\n"
     ]
    }
   ],
   "source": [
    "print(ask_question(\"如何擴展 Service IP 範圍?\"))"
   ]
  },
  {
   "cell_type": "code",
   "execution_count": 24,
   "id": "90296c09-28f2-4e5c-8d31-472addb642a4",
   "metadata": {},
   "outputs": [
    {
     "name": "stderr",
     "output_type": "stream",
     "text": [
      "100%|██████████| 5/5 [00:00<00:00, 689.38it/s]\n"
     ]
    },
    {
     "data": {
      "text/plain": [
       "Document(metadata={'source': 'website/content/en/docs/tasks/network/extend-service-ip-ranges.md'}, page_content='---\\nreviewers:\\n- thockin\\n- dwinship\\nmin-kubernetes-server-version: v1.29\\ntitle: Extend Service IP Ranges\\ncontent_type: task\\n---\\n\\n<!-- overview -->\\n{{< feature-state feature_gate_name=\"MultiCIDRServiceAllocator\" >}}\\n\\nThis document shares how to extend the existing Service IP range assigned to a cluster.\\n\\n\\n## {{% heading \"prerequisites\" %}}\\n\\n{{< include \"task-tutorial-prereqs.md\" >}}\\n\\n{{< version-check >}}\\n\\n{{< note >}}\\nWhile you can use this feature with an earlier version, the feature is only GA and officially supported since v1.33.\\n{{< /note >}}\\n\\n<!-- steps -->\\n\\n## Extend Service IP Ranges\\n\\nKubernetes clusters with kube-apiservers that have enabled the `MultiCIDRServiceAllocator`\\n[feature gate](/docs/reference/command-line-tools-reference/feature-gates/) and have the\\n`networking.k8s.io/v1beta1` API group active, will create a ServiceCIDR object that takes\\nthe well-known name `kubernetes`, and that specifies an IP address range\\nbased on the value of the `--service-cluster-ip-range` command line argument to kube-apiserver.\\n\\n```sh\\nkubectl get servicecidr\\n```\\n\\n```\\nNAME         CIDRS          AGE\\nkubernetes   10.96.0.0/28   17d\\n```\\n\\nThe well-known `kubernetes` Service, that exposes the kube-apiserver endpoint to the Pods, calculates\\nthe first IP address from the default ServiceCIDR range and uses that IP address as its\\ncluster IP address.\\n\\n```sh\\nkubectl get service kubernetes\\n```\\n\\n```\\nNAME         TYPE        CLUSTER-IP   EXTERNAL-IP   PORT(S)   AGE\\nkubernetes   ClusterIP   10.96.0.1    <none>        443/TCP   17d\\n```\\n\\nThe default Service, in this case, uses the ClusterIP 10.96.0.1, that has the corresponding IPAddress object.\\n\\n```sh\\nkubectl get ipaddress 10.96.0.1\\n```\\n\\n```\\nNAME        PARENTREF\\n10.96.0.1   services/default/kubernetes\\n```\\n\\nThe ServiceCIDRs are protected with {{<glossary_tooltip text=\"finalizers\" term_id=\"finalizer\">}},\\nto avoid leaving Service ClusterIPs orphans; the finalizer is only removed if there is another subnet\\nthat contains the existing IPAddresses or there are no IPAddresses belonging to the subnet.\\n\\n## Extend the number of available IPs for Services\\n\\nThere are cases that users will need to increase the number addresses available to Services,\\npreviously, increasing the Service range was a disruptive operation that could also cause data loss.\\nWith this new feature users only need to add a new ServiceCIDR to increase the number of available addresses.\\n\\n### Adding a new ServiceCIDR\\n\\nOn a cluster with a 10.96.0.0/28 range for Services, there is only 2^(32-28) - 2 = 14\\nIP addresses available. The `kubernetes.default` Service is always created; for this example,\\nthat leaves you with only 13 possible Services.\\n\\n```sh\\nfor i in $(seq 1 13); do kubectl create service clusterip \"test-$i\" --tcp 80 -o json | jq -r .spec.clusterIP; done\\n```\\n\\n```\\n10.96.0.11\\n10.96.0.5\\n10.96.0.12\\n10.96.0.13\\n10.96.0.14\\n10.96.0.2\\n10.96.0.3\\n10.96.0.4\\n10.96.0.6\\n10.96.0.7\\n10.96.0.8\\n10.96.0.9\\nerror: failed to create ClusterIP service: Internal error occurred: failed to allocate a serviceIP: range is full\\n```\\n\\nYou can increase the number of IP addresses available for Services, by creating a new ServiceCIDR\\nthat extends or adds new IP address ranges.\\n\\n```sh\\ncat <EOF | kubectl apply -f -\\napiVersion: networking.k8s.io/v1beta1\\nkind: ServiceCIDR\\nmetadata:\\n  name: newcidr1\\nspec:\\n  cidrs:\\n  - 10.96.0.0/24\\nEOF\\n```\\n\\n```\\nservicecidr.networking.k8s.io/newcidr1 created\\n```\\n\\nand this will allow you to create new Services with ClusterIPs that will be picked from this new range.\\n\\n```sh\\nfor i in $(seq 13 16); do kubectl create service clusterip \"test-$i\" --tcp 80 -o json | jq -r .spec.clusterIP; done\\n```\\n\\n```\\n10.96.0.48\\n10.96.0.200\\n10.96.0.121\\n10.96.0.144\\n```\\n\\n### Deleting a ServiceCIDR\\n\\nYou cannot delete a ServiceCIDR if there are IPAddresses that depend on the ServiceCIDR.\\n\\n```sh\\nkubectl delete servicecidr newcidr1\\n```\\n\\n```\\nservicecidr.networking.k8s.io \"newcidr1\" deleted\\n```\\n\\nKubernetes uses a finalizer on the ServiceCIDR to track this dependent relationship.\\n\\n```sh\\nkubectl get servicecidr newcidr1 -o yaml\\n```\\n\\n```yaml\\napiVersion: networking.k8s.io/v1beta1\\nkind: ServiceCIDR\\nmetadata:\\n  creationTimestamp: \"2023-10-12T15:11:07Z\"\\n  deletionGracePeriodSeconds: 0\\n  deletionTimestamp: \"2023-10-12T15:12:45Z\"\\n  finalizers:\\n  - networking.k8s.io/service-cidr-finalizer\\n  name: newcidr1\\n  resourceVersion: \"1133\"\\n  uid: 5ffd8afe-c78f-4e60-ae76-cec448a8af40\\nspec:\\n  cidrs:\\n  - 10.96.0.0/24\\nstatus:\\n  conditions:\\n  - lastTransitionTime: \"2023-10-12T15:12:45Z\"\\n    message: There are still IPAddresses referencing the ServiceCIDR, please remove\\n      them or create a new ServiceCIDR\\n    reason: OrphanIPAddress\\n    status: \"False\"\\n    type: Ready\\n```\\n\\nBy removing the Services containing the IP addresses that are blocking the deletion of the ServiceCIDR\\n\\n```sh\\nfor i in $(seq 13 16); do kubectl delete service \"test-$i\" ; done\\n```\\n\\n```\\nservice \"test-13\" deleted\\nservice \"test-14\" deleted\\nservice \"test-15\" deleted\\nservice \"test-16\" deleted\\n```\\n\\nthe control plane notices the removal. The control plane then removes its finalizer,\\nso that the ServiceCIDR that was pending deletion will actually be removed.\\n\\n```sh\\nkubectl get servicecidr newcidr1\\n```\\n\\n```\\nError from server (NotFound): servicecidrs.networking.k8s.io \"newcidr1\" not found\\n```\\n\\n## Kubernetes Service CIDR Policies\\n\\nCluster administrators can implement policies to control the creation and\\nmodification of ServiceCIDR resources within the cluster. This allows for\\ncentralized management of the IP address ranges used for Services and helps\\nprevent unintended or conflicting configurations. Kubernetes provides mechanisms\\nlike Validating Admission Policies to enforce these rules.\\n\\n### Preventing Unauthorized ServiceCIDR Creation/Update using Validating Admission Policy\\n\\nThere can be situations that the cluster administrators want to restrict the\\nranges that can be allowed or to completely deny any changes to the cluster\\nService IP ranges.\\n\\n{{< note >}}\\nThe default \"kubernetes\" ServiceCIDR is created by the kube-apiserver\\nto provide consistency in the cluster and is required for the cluster to work,\\nso it always must be allowed. You can ensure your `ValidatingAdmissionPolicy`\\ndoesn\\'t restrict the default ServiceCIDR by adding the clause:\\n\\n```yaml\\n  matchConditions:\\n  - name: \\'exclude-default-servicecidr\\'\\n    expression: \"object.metadata.name != \\'kubernetes\\'\"\\n```\\n\\nas in the examples below.\\n{{</ note >}}\\n\\n#### Restrict Service CIDR ranges to some specific ranges\\n\\nThe following is an example of a `ValidatingAdmissionPolicy` that only allows\\nServiceCIDRs to be created if they are subranges of the given `allowed` ranges.\\n(So the example policy would allow a ServiceCIDR with `cidrs: [\\'10.96.1.0/24\\']`\\nor `cidrs: [\\'2001:db8:0:0:ffff::/80\\', \\'10.96.0.0/20\\']` but would not allow a\\nServiceCIDR with `cidrs: [\\'172.20.0.0/16\\']`.) You can copy this policy and change\\nthe value of `allowed` to something appropriate for you cluster.\\n\\n```yaml\\napiVersion: admissionregistration.k8s.io/v1\\nkind: ValidatingAdmissionPolicy\\nmetadata:\\n  name: \"servicecidrs.default\"\\nspec:\\n  failurePolicy: Fail\\n  matchConstraints:\\n    resourceRules:\\n    - apiGroups:   [\"networking.k8s.io\"]\\n      apiVersions: [\"v1\",\"v1beta1\"]\\n      operations:  [\"CREATE\", \"UPDATE\"]\\n      resources:   [\"servicecidrs\"]\\n  matchConditions:\\n  - name: \\'exclude-default-servicecidr\\'\\n    expression: \"object.metadata.name != \\'kubernetes\\'\"\\n  variables:\\n  - name: allowed\\n    expression: \"[\\'10.96.0.0/16\\',\\'2001:db8::/64\\']\"\\n  validations:\\n  - expression: \"object.spec.cidrs.all(newCIDR, variables.allowed.exists(allowedCIDR, cidr(allowedCIDR).containsCIDR(newCIDR)))\"\\n  # For all CIDRs (newCIDR) listed in the spec.cidrs of the submitted ServiceCIDR\\n  # object, check if there exists at least one CIDR (allowedCIDR) in the `allowed`\\n  # list of the VAP such that the allowedCIDR fully contains the newCIDR.\\n---\\napiVersion: admissionregistration.k8s.io/v1\\nkind: ValidatingAdmissionPolicyBinding\\nmetadata:\\n  name: \"servicecidrs-binding\"\\nspec:\\n  policyName: \"servicecidrs.default\"\\n  validationActions: [Deny,Audit]\\n```\\n\\nConsult the [CEL documentation](https://kubernetes.io/docs/reference/using-api/cel/)\\nto learn more about CEL if you want to write your own validation `expression`.\\n\\n#### Restrict any usage of the ServiceCIDR API\\n\\nThe following example demonstrates how to use a `ValidatingAdmissionPolicy` and\\nits binding to restrict the creation of any new Service CIDR ranges, excluding the default \"kubernetes\" ServiceCIDR:\\n\\n```yaml\\napiVersion: admissionregistration.k8s.io/v1\\nkind: ValidatingAdmissionPolicy\\nmetadata:\\n  name: \"servicecidrs.deny\"\\nspec:\\n  failurePolicy: Fail\\n  matchConstraints:\\n    resourceRules:\\n    - apiGroups:   [\"networking.k8s.io\"]\\n      apiVersions: [\"v1\",\"v1beta1\"]\\n      operations:  [\"CREATE\", \"UPDATE\"]\\n      resources:   [\"servicecidrs\"]\\n  validations:\\n  - expression: \"object.metadata.name == \\'kubernetes\\'\"\\n---\\napiVersion: admissionregistration.k8s.io/v1\\nkind: ValidatingAdmissionPolicyBinding\\nmetadata:\\n  name: \"servicecidrs-deny-binding\"\\nspec:\\n  policyName: \"servicecidrs.deny\"\\n  validationActions: [Deny,Audit]\\n```\\n')"
      ]
     },
     "execution_count": 24,
     "metadata": {},
     "output_type": "execute_result"
    }
   ],
   "source": [
    "documents = []\n",
    "\n",
    "from langchain_community.document_loaders import DirectoryLoader\n",
    "from langchain_community.document_loaders import TextLoader\n",
    "#from langchain_community.document_loaders import UnstructuredMarkdownLoader\n",
    "\n",
    "# https://kubernetes.io/docs/tasks/extend-kubectl/kubectl-plugins/\n",
    "\n",
    "loader = DirectoryLoader(\n",
    "    \"website/content/en/docs/tasks/network/\",\n",
    "    #\"website/content/zh-cn/docs/tasks/network/\",\n",
    "    glob=\"./**/*.md\",\n",
    "    show_progress=True,\n",
    "    recursive=True,\n",
    "    loader_cls=TextLoader,\n",
    "    #loader_cls=UnstructuredMarkdownLoader,\n",
    "    #loader_kwargs={\"mode\":\"single\"},\n",
    "    #loader_kwargs={\"mode\":\"elements\"},\n",
    ")\n",
    "\n",
    "documents = loader.load()\n",
    "documents[0]"
   ]
  },
  {
   "cell_type": "code",
   "execution_count": 25,
   "id": "bab30b3d-50b4-4265-a109-1e91e0667e52",
   "metadata": {},
   "outputs": [
    {
     "name": "stdout",
     "output_type": "stream",
     "text": [
      "=====Split 18 sections\n"
     ]
    }
   ],
   "source": [
    "from langchain.text_splitter import MarkdownHeaderTextSplitter\n",
    "\n",
    "headers_to_split_on = [\n",
    "    (\"#\", \"Header 1\"), \n",
    "    (\"##\", \"Header 2\"), \n",
    "    #(\"###\", \"Header 3\"), \n",
    "    #(\"####\", \"Header 4\")\n",
    "]\n",
    "\n",
    "text_splitter = MarkdownHeaderTextSplitter(\n",
    "    headers_to_split_on=headers_to_split_on,\n",
    "    #strip_headers=False # keep headers in the text\n",
    ")\n",
    "\n",
    "all_sections = []\n",
    "\n",
    "for doc in documents:\n",
    "    sections = text_splitter.split_text(doc.page_content)\n",
    "\n",
    "    for i in range(len(sections)):\n",
    "        # keep metadata from the original document\n",
    "        metadata = dict(doc.metadata)\n",
    "        metadata.update(sections[i].metadata)\n",
    "        metadata.update({\"split\": f\"{i+1}/{len(sections)}\"})\n",
    "        sections[i].metadata = metadata\n",
    "    #for section in sections:\n",
    "    #    # keep metadata from the original document\n",
    "    #    metadata = dict(doc.metadata)\n",
    "    #    metadata.update(section.metadata)\n",
    "    #    section.metadata = metadata\n",
    "\n",
    "    all_sections.extend(sections)\n",
    "\n",
    "print(f\"=====Split {len(all_sections)} sections\")\n",
    "#print(f\"=====First section: {all_sections[0]}\")\n",
    "#print(f\"=====Last section: {all_sections[-1]}\")"
   ]
  },
  {
   "cell_type": "code",
   "execution_count": 26,
   "id": "6f9d6857-c47a-4afc-8a2a-229ec189b630",
   "metadata": {},
   "outputs": [
    {
     "name": "stdout",
     "output_type": "stream",
     "text": [
      "Embedding progress:website/content/en/docs/tasks/network/extend-service-ip-ranges.md1/5\n",
      "Embedding progress:website/content/en/docs/tasks/network/extend-service-ip-ranges.md2/5\n",
      "Embedding progress:website/content/en/docs/tasks/network/extend-service-ip-ranges.md3/5\n",
      "Embedding progress:website/content/en/docs/tasks/network/extend-service-ip-ranges.md4/5\n",
      "Embedding progress:website/content/en/docs/tasks/network/extend-service-ip-ranges.md5/5\n",
      "Embedding progress:website/content/en/docs/tasks/network/validate-dual-stack.md1/4\n",
      "Embedding progress:website/content/en/docs/tasks/network/validate-dual-stack.md2/4\n",
      "Embedding progress:website/content/en/docs/tasks/network/validate-dual-stack.md3/4\n",
      "Embedding progress:website/content/en/docs/tasks/network/validate-dual-stack.md4/4\n",
      "Embedding progress:website/content/en/docs/tasks/network/customize-hosts-file-for-pods.md1/4\n",
      "Embedding progress:website/content/en/docs/tasks/network/customize-hosts-file-for-pods.md2/4\n",
      "Embedding progress:website/content/en/docs/tasks/network/customize-hosts-file-for-pods.md3/4\n",
      "Embedding progress:website/content/en/docs/tasks/network/customize-hosts-file-for-pods.md4/4\n",
      "Embedding progress:website/content/en/docs/tasks/network/_index.md1/1\n",
      "Embedding progress:website/content/en/docs/tasks/network/reconfigure-default-service-ip-ranges.md1/4\n",
      "Embedding progress:website/content/en/docs/tasks/network/reconfigure-default-service-ip-ranges.md2/4\n",
      "Embedding progress:website/content/en/docs/tasks/network/reconfigure-default-service-ip-ranges.md3/4\n",
      "Embedding progress:website/content/en/docs/tasks/network/reconfigure-default-service-ip-ranges.md4/4\n"
     ]
    },
    {
     "data": {
      "text/plain": [
       "18"
      ]
     },
     "execution_count": 26,
     "metadata": {},
     "output_type": "execute_result"
    }
   ],
   "source": [
    "import hashlib\n",
    "\n",
    "def add_document(document):\n",
    "    # hash the source (url) to get a unique id\n",
    "    print('Embedding progress:' + document.metadata['source'] + document.metadata['split'])\n",
    "    hash = hashlib.sha256(\n",
    "        str(document.metadata['source'] + document.metadata['split']).encode('utf-8')\n",
    "    ).hexdigest()[::2]\n",
    "    \n",
    "    vectordb.add_documents(\n",
    "        documents=[document],\n",
    "        #ids=[str(uuid4())]\n",
    "        ids=[hash]\n",
    "    )\n",
    "\n",
    "for section in all_sections:\n",
    "    add_document(section)\n",
    "\n",
    "collection_info = client.get_collection(collection_name=collection_name)\n",
    "collection_info.points_count"
   ]
  },
  {
   "cell_type": "code",
   "execution_count": 27,
   "id": "d523680c-d090-49c8-b5be-a8408bcac7cd",
   "metadata": {},
   "outputs": [
    {
     "name": "stdout",
     "output_type": "stream",
     "text": [
      "Question：如何擴展 Service IP 範圍?  \n",
      "Context:  \n",
      "本文件分享如何擴展分配給 Kubernetes 叢集的 Service IP 範圍。  \n",
      "透過設定 kube-controller-manager 的 `--service-cluster-ip-range` 參數，可以配置多個 IP 範圍，並利用 MultiCIDRServiceAllocator 功能來擴展現有的 Service IP 範圍。  \n",
      "此外，建立 Service 時可透過 `.spec.ipFamilyPolicy` 和 `.spec.ipFamilies` 來指定使用的 IP 家族（IPv4、IPv6 或雙棧），以配合擴展後的多個 IP 範圍。  \n",
      "\n",
      "Answer:  \n",
      "要擴展 Service IP 範圍，可以在 kube-controller-manager 中設定多個 `--service-cluster-ip-range`，啟用 MultiCIDRServiceAllocator 功能，讓 Kubernetes 支援多個 IP 範圍。建立 Service 時，透過設定 `.spec.ipFamilyPolicy`（如 SingleStack、PreferDualStack）和 `.spec.ipFamilies`（指定 IPv4、IPv6 或雙棧）來使用擴展後的 IP 範圍，從而達成 Service IP 範圍的擴展與管理。\n"
     ]
    }
   ],
   "source": [
    "print(ask_question(\"如何擴展 Service IP 範圍?\"))"
   ]
  },
  {
   "cell_type": "code",
   "execution_count": 28,
   "id": "ddc6c790-cf78-4e84-95b3-c2b5b4a57204",
   "metadata": {},
   "outputs": [],
   "source": [
    "#client.delete_collection(collection_name=collection_name)"
   ]
  },
  {
   "cell_type": "code",
   "execution_count": null,
   "id": "3810050b-2606-44b5-934c-ac97b278334e",
   "metadata": {},
   "outputs": [],
   "source": []
  }
 ],
 "metadata": {
  "kernelspec": {
   "display_name": "Python 3 (ipykernel)",
   "language": "python",
   "name": "python3"
  },
  "language_info": {
   "codemirror_mode": {
    "name": "ipython",
    "version": 3
   },
   "file_extension": ".py",
   "mimetype": "text/x-python",
   "name": "python",
   "nbconvert_exporter": "python",
   "pygments_lexer": "ipython3",
   "version": "3.12.10"
  }
 },
 "nbformat": 4,
 "nbformat_minor": 5
}
