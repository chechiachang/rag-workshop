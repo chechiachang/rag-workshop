{
 "cells": [
  {
   "cell_type": "markdown",
   "id": "4a0bc3af-1555-441b-9157-79e56cb0f7a7",
   "metadata": {},
   "source": [
    "# 👋👋👋自己動手做看看👋👋👋\n",
    "\n",
    "沒有做過 RAG / embedding 的朋友可以嘗試自己動手做\n",
    "\n",
    "---\n",
    "\n",
    "### 資料集\n",
    "\n",
    "`/home/jovyan/0_cold_jokes.csv`\n",
    "\n",
    "網路上搜集的台灣的冷笑話，來源也是網路上搜集的 [https://wayne265265.pixnet.net/blog/post/216422544](https://wayne265265.pixnet.net/blog/post/216422544)\n",
    "\n",
    "兩個欄位: question 與 anwser\n",
    "\n",
    "資料集的內容相當無用，只是讓同學試著操作 RAG。未來可以依據自己需要的內容，建立有意義的知識庫。\n",
    "\n",
    "---\n",
    "\n",
    "### 目標：讓 openai 可以依據提供的知識（冷笑話）回答模型（gpt-4.1-mini）本來不知道的問題\n",
    "\n",
    "```\n",
    "print(ask(\"屈原投江最後說了什麼？\"))\n",
    "```\n",
    "\n",
    "我不知道。\n",
    "\n",
    "原文依據：提供的內容中並未提及屈原投江最後說了什麼。\n",
    "\n",
    "### 輸入冷笑話到 Qdrant 後，透過 RAG 回答\n",
    "\n",
    "```\n",
    "print(ask(\"屈原投江最後說了什麼？\"))\n",
    "```\n",
    "\n",
    "根據提供的內容，屈原投江最後說的是：\n",
    "\n",
    "**「偶..偶溺江（お兄ちゃん）」**\n",
    "\n",
    "📌 **內容原文依據：**\n",
    "question：屈原投江最後說了什麼？\n",
    "answer：偶..偶溺江（お兄ちゃん）\n",
    "\n",
    "---\n",
    "\n",
    "### 提示\n",
    "\n",
    "1. 需要根據 \n",
    "2. 需要透過 qdrant.create_collection 建立新的 collection，不要跟現有的 collection_name=\"Articles\" 混再一起\n",
    "3. 沒做出來也不會影響後面的內容"
   ]
  },
  {
   "cell_type": "code",
   "execution_count": 1,
   "id": "492d816b-1121-4c2e-844d-87b79c17ec27",
   "metadata": {},
   "outputs": [
    {
     "name": "stdout",
     "output_type": "stream",
     "text": [
      "Requirement already satisfied: pandas in /opt/conda/lib/python3.12/site-packages (2.2.3)\n",
      "Requirement already satisfied: numpy>=1.26.0 in /opt/conda/lib/python3.12/site-packages (from pandas) (2.2.6)\n",
      "Requirement already satisfied: python-dateutil>=2.8.2 in /opt/conda/lib/python3.12/site-packages (from pandas) (2.9.0.post0)\n",
      "Requirement already satisfied: pytz>=2020.1 in /opt/conda/lib/python3.12/site-packages (from pandas) (2025.2)\n",
      "Requirement already satisfied: tzdata>=2022.7 in /opt/conda/lib/python3.12/site-packages (from pandas) (2025.2)\n",
      "Requirement already satisfied: six>=1.5 in /opt/conda/lib/python3.12/site-packages (from python-dateutil>=2.8.2->pandas) (1.17.0)\n"
     ]
    }
   ],
   "source": [
    "! pip install pandas"
   ]
  },
  {
   "cell_type": "code",
   "execution_count": 13,
   "id": "44b7aa23-7307-457c-b0a1-39c4d86be38f",
   "metadata": {},
   "outputs": [
    {
     "data": {
      "text/html": [
       "<div>\n",
       "<style scoped>\n",
       "    .dataframe tbody tr th:only-of-type {\n",
       "        vertical-align: middle;\n",
       "    }\n",
       "\n",
       "    .dataframe tbody tr th {\n",
       "        vertical-align: top;\n",
       "    }\n",
       "\n",
       "    .dataframe thead th {\n",
       "        text-align: right;\n",
       "    }\n",
       "</style>\n",
       "<table border=\"1\" class=\"dataframe\">\n",
       "  <thead>\n",
       "    <tr style=\"text-align: right;\">\n",
       "      <th></th>\n",
       "      <th>question</th>\n",
       "      <th>answer</th>\n",
       "    </tr>\n",
       "  </thead>\n",
       "  <tbody>\n",
       "    <tr>\n",
       "      <th>12</th>\n",
       "      <td>奴隸不能做什麼？</td>\n",
       "      <td>煎蛋（修煉愛情：我們這些奴隸不煎蛋）</td>\n",
       "    </tr>\n",
       "    <tr>\n",
       "      <th>18</th>\n",
       "      <td>為何千手觀音還沒到會議？</td>\n",
       "      <td>因為她還在洗手</td>\n",
       "    </tr>\n",
       "    <tr>\n",
       "      <th>17</th>\n",
       "      <td>麵包超人扭到腳變什麼？</td>\n",
       "      <td>牛角麵包（扭腳麵包）</td>\n",
       "    </tr>\n",
       "    <tr>\n",
       "      <th>11</th>\n",
       "      <td>為何得癌症的人特別健談？</td>\n",
       "      <td>因為他們都有話聊（化療）</td>\n",
       "    </tr>\n",
       "    <tr>\n",
       "      <th>25</th>\n",
       "      <td>為何姓陳的人英文不能叫Jessica？</td>\n",
       "      <td>Jessica Chen台語像“J係咖稱”，Monica Chen像“摸你咖稱”</td>\n",
       "    </tr>\n",
       "  </tbody>\n",
       "</table>\n",
       "</div>"
      ],
      "text/plain": [
       "               question                                    answer\n",
       "12             奴隸不能做什麼？                        煎蛋（修煉愛情：我們這些奴隸不煎蛋）\n",
       "18         為何千手觀音還沒到會議？                                   因為她還在洗手\n",
       "17          麵包超人扭到腳變什麼？                                牛角麵包（扭腳麵包）\n",
       "11         為何得癌症的人特別健談？                              因為他們都有話聊（化療）\n",
       "25  為何姓陳的人英文不能叫Jessica？  Jessica Chen台語像“J係咖稱”，Monica Chen像“摸你咖稱”"
      ]
     },
     "execution_count": 13,
     "metadata": {},
     "output_type": "execute_result"
    }
   ],
   "source": [
    "import pandas as pd\n",
    "joke_df = pd.read_csv('/home/jovyan/0_cold_jokes.csv')\n",
    "joke_df.sample(n=5)"
   ]
  },
  {
   "cell_type": "code",
   "execution_count": 14,
   "id": "0bb31ad2-aa28-456b-8382-278e07c2e6c6",
   "metadata": {},
   "outputs": [],
   "source": [
    "# 需要透過 qdrant.create_collection 建立新的 collection，不要跟現有的 collection_name=\"Articles\" 混再一起\n",
    "new_collection_name=\"\"\n",
    "\n",
    "# TODO"
   ]
  },
  {
   "cell_type": "code",
   "execution_count": 16,
   "id": "12243e01-00d0-4e5c-acc8-17c9fac2aaaa",
   "metadata": {},
   "outputs": [
    {
     "name": "stdout",
     "output_type": "stream",
     "text": [
      "\n",
      "🧠 回答：\n",
      "我不知道\n",
      "\n",
      "內容原文：無相關資訊。\n"
     ]
    }
   ],
   "source": [
    "docs = []\n",
    "query = \"先進船的人會先說什麼？\"\n",
    "answer = generate_answer(query, docs)\n",
    "\n",
    "print(\"\\n🧠 回答：\")\n",
    "print(answer)"
   ]
  },
  {
   "cell_type": "code",
   "execution_count": 10,
   "id": "52cddf8e-eb47-4cab-b037-2355a28d9c8e",
   "metadata": {},
   "outputs": [],
   "source": [
    "# TODO"
   ]
  },
  {
   "cell_type": "code",
   "execution_count": null,
   "id": "25481de4-5d14-44ef-bf1c-fdee724624c8",
   "metadata": {},
   "outputs": [],
   "source": [
    "docs = []\n",
    "query = \"先進船的人會先說什麼？\"\n",
    "\n",
    "docs = query_docs(query, new_collection_name)\n",
    "answer = generate_answer(query, docs)\n",
    "\n",
    "print(\"\\n🧠 回答：\")\n",
    "print(answer)"
   ]
  },
  {
   "cell_type": "code",
   "execution_count": null,
   "id": "e2582589-6622-4145-a030-d345b9749ddd",
   "metadata": {},
   "outputs": [],
   "source": []
  }
 ],
 "metadata": {
  "kernelspec": {
   "display_name": "Python 3 (ipykernel)",
   "language": "python",
   "name": "python3"
  },
  "language_info": {
   "codemirror_mode": {
    "name": "ipython",
    "version": 3
   },
   "file_extension": ".py",
   "mimetype": "text/x-python",
   "name": "python",
   "nbconvert_exporter": "python",
   "pygments_lexer": "ipython3",
   "version": "3.12.10"
  }
 },
 "nbformat": 4,
 "nbformat_minor": 5
}
