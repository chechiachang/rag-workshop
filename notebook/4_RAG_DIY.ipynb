{
 "cells": [
  {
   "cell_type": "markdown",
   "id": "4a0bc3af-1555-441b-9157-79e56cb0f7a7",
   "metadata": {},
   "source": [
    "# 👋👋👋自己動手做看看👋👋👋\n",
    "\n",
    "沒有做過 RAG / embedding 的朋友可以嘗試自己動手做\n",
    "\n",
    "---\n",
    "\n",
    "### 資料集\n",
    "\n",
    "`/home/jovyan/0_cold_jokes.csv`\n",
    "\n",
    "網路上搜集的台灣的冷笑話，來源也是網路上搜集的 [https://wayne265265.pixnet.net/blog/post/216422544](https://wayne265265.pixnet.net/blog/post/216422544)\n",
    "\n",
    "兩個欄位: question 與 anwser\n",
    "\n",
    "### 為何要冷笑話？\n",
    "\n",
    "1. 資料集的內容相當無用，只是讓同學試著操作 RAG\n",
    "2. chatGPT 到今天還是很難產生讓人滿意的冷笑話（效能低於平均人類），透過 RAG 讓 LLM 產生本來產不好的內容：講出台灣人聽得懂的笑話\n",
    "3. 未來可以依據自己需要的內容，建立有意義的知識庫。\n",
    "\n",
    "---\n",
    "\n",
    "### 目標：讓 openai 可以依據提供的知識（冷笑話）回答模型（gpt-4.1-mini）本來不知道的問題\n",
    "\n",
    "```\n",
    "print(ask(\"屈原投江最後說了什麼？\"))\n",
    "```\n",
    "\n",
    "我不知道。\n",
    "\n",
    "原文依據：提供的內容中並未提及屈原投江最後說了什麼。\n",
    "\n",
    "### 輸入冷笑話到 Qdrant 後，透過 RAG 回答\n",
    "\n",
    "```\n",
    "print(ask(\"屈原投江最後說了什麼？\"))\n",
    "```\n",
    "\n",
    "根據提供的內容，屈原投江最後說的是：\n",
    "\n",
    "**「偶..偶溺江（お兄ちゃん）」**\n",
    "\n",
    "📌 **內容原文依據：**\n",
    "question：屈原投江最後說了什麼？\n",
    "answer：偶..偶溺江（お兄ちゃん）\n",
    "\n",
    "---\n",
    "\n",
    "### 提示\n",
    "\n",
    "1. 可以複製 2-3 的 def function\n",
    "2. 需要透過 qdrant.create_collection 建立新的 collection，不要跟現有的 collection 混在一起\n",
    "3. 沒做出來也不會影響後面的內容"
   ]
  },
  {
   "cell_type": "code",
   "execution_count": null,
   "id": "492d816b-1121-4c2e-844d-87b79c17ec27",
   "metadata": {},
   "outputs": [],
   "source": [
    "! pip install pandas"
   ]
  },
  {
   "cell_type": "markdown",
   "id": "183c2f13-91a6-400a-aeb9-286f9ea70baf",
   "metadata": {},
   "source": [
    "### 在沒有補笑話資料集的時後，應該答不出笑話的內容"
   ]
  },
  {
   "cell_type": "code",
   "execution_count": null,
   "id": "12243e01-00d0-4e5c-acc8-17c9fac2aaaa",
   "metadata": {},
   "outputs": [],
   "source": [
    "docs = []\n",
    "query = \"先進船的人會先說什麼？\"\n",
    "\n",
    "docs = query_docs(\n",
    "    query=query,\n",
    "    collection_name=\"covid-qa-3-large\", # 問 covid-qa collection，應該問不到笑話\n",
    "    model=\"\")\n",
    "\n",
    "answer = generate_answer(\n",
    "    query=query, \n",
    "    docs=docs, \n",
    "    model=\"\")\n",
    "\n",
    "print(\"\\n🧠 回答：\")\n",
    "print(answer)"
   ]
  },
  {
   "cell_type": "markdown",
   "id": "e65378ae-3bb2-4d83-8434-ab612f1a518e",
   "metadata": {},
   "source": [
    "### 使用冷笑話資料集"
   ]
  },
  {
   "cell_type": "code",
   "execution_count": null,
   "id": "44b7aa23-7307-457c-b0a1-39c4d86be38f",
   "metadata": {},
   "outputs": [],
   "source": [
    "import pandas as pd\n",
    "joke_df = pd.read_csv('/home/jovyan/cold_jokes.csv')\n",
    "joke_df.sample(n=5)"
   ]
  },
  {
   "cell_type": "markdown",
   "id": "7c8f2c47-a777-4e66-8565-725acb2caa0c",
   "metadata": {},
   "source": [
    "### 把 Code 寫在這裡"
   ]
  },
  {
   "cell_type": "code",
   "execution_count": null,
   "id": "52cddf8e-eb47-4cab-b037-2355a28d9c8e",
   "metadata": {},
   "outputs": [],
   "source": [
    "# 產生 embedding\n",
    "\n",
    "# 將 embedding 寫入 Qdrant\n",
    "\n",
    "#collection_name=\"取一個新的名字\"\n",
    "\n",
    "# 使用 OpenAI chat 做 RAG"
   ]
  },
  {
   "cell_type": "markdown",
   "id": "e76f9efb-0642-4fe9-887d-087026d5ab61",
   "metadata": {},
   "source": [
    "### 使用冷笑話資料集應該可以回答出冷笑話問題"
   ]
  },
  {
   "cell_type": "code",
   "execution_count": null,
   "id": "25481de4-5d14-44ef-bf1c-fdee724624c8",
   "metadata": {},
   "outputs": [],
   "source": [
    "docs = []\n",
    "query = \"先進船的人會先說什麼？\"\n",
    "\n",
    "docs = query_docs(query, new_collection_name)\n",
    "answer = generate_answer(query, docs)\n",
    "\n",
    "print(\"\\n🧠 回答：\")\n",
    "print(answer)"
   ]
  },
  {
   "cell_type": "code",
   "execution_count": null,
   "id": "e2582589-6622-4145-a030-d345b9749ddd",
   "metadata": {},
   "outputs": [],
   "source": []
  }
 ],
 "metadata": {
  "kernelspec": {
   "display_name": "Python 3 (ipykernel)",
   "language": "python",
   "name": "python3"
  },
  "language_info": {
   "codemirror_mode": {
    "name": "ipython",
    "version": 3
   },
   "file_extension": ".py",
   "mimetype": "text/x-python",
   "name": "python",
   "nbconvert_exporter": "python",
   "pygments_lexer": "ipython3",
   "version": "3.12.10"
  }
 },
 "nbformat": 4,
 "nbformat_minor": 5
}
